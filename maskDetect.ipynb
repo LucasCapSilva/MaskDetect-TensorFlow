{
  "nbformat": 4,
  "nbformat_minor": 0,
  "metadata": {
    "colab": {
      "name": "maskDetect.ipynb",
      "provenance": [],
      "collapsed_sections": [],
      "toc_visible": true
    },
    "kernelspec": {
      "name": "python3",
      "display_name": "Python 3"
    },
    "accelerator": "GPU"
  },
  "cells": [
    {
      "cell_type": "markdown",
      "metadata": {
        "id": "JnKRe0p9h35K",
        "colab_type": "text"
      },
      "source": [
        "# BacterDetect\n",
        "\n",
        "## Classificador de bacterias gram negativas e gram positivas"
      ]
    },
    {
      "cell_type": "markdown",
      "metadata": {
        "id": "fr6pOOh0hHaj",
        "colab_type": "text"
      },
      "source": [
        "# Etapa 1: Importação das bibliotecas"
      ]
    },
    {
      "cell_type": "code",
      "metadata": {
        "id": "QqPjanlXkVzi",
        "colab_type": "code",
        "outputId": "ee49ca21-2f11-47ba-b38f-cc93914c580e",
        "colab": {
          "base_uri": "https://localhost:8080/",
          "height": 86
        }
      },
      "source": [
        "%tensorflow_version 2.x\n",
        "import tensorflow as tf\n",
        "import pandas.util.testing as pd\n",
        "import numpy as np\n",
        "import matplotlib.pyplot as plt\n",
        "import seaborn as sns\n",
        "import random \n",
        "import zipfile\n",
        "tf.__version__"
      ],
      "execution_count": 1,
      "outputs": [
        {
          "output_type": "stream",
          "text": [
            "/usr/local/lib/python3.6/dist-packages/ipykernel_launcher.py:3: FutureWarning: pandas.util.testing is deprecated. Use the functions in the public API at pandas.testing instead.\n",
            "  This is separate from the ipykernel package so we can avoid doing imports until\n"
          ],
          "name": "stderr"
        },
        {
          "output_type": "execute_result",
          "data": {
            "text/plain": [
              "'2.2.0-rc3'"
            ]
          },
          "metadata": {
            "tags": []
          },
          "execution_count": 1
        }
      ]
    },
    {
      "cell_type": "code",
      "metadata": {
        "id": "IFhOG8Pjkue2",
        "colab_type": "code",
        "outputId": "0bf05c43-ce4e-4156-f86d-b60d006e99da",
        "colab": {
          "base_uri": "https://localhost:8080/",
          "height": 118
        }
      },
      "source": [
        "from google.colab import drive\n",
        "drive.mount('/content/drive')"
      ],
      "execution_count": 2,
      "outputs": [
        {
          "output_type": "stream",
          "text": [
            "Go to this URL in a browser: https://accounts.google.com/o/oauth2/auth?client_id=947318989803-6bn6qk8qdgf4n4g3pfee6491hc0brc4i.apps.googleusercontent.com&redirect_uri=urn%3aietf%3awg%3aoauth%3a2.0%3aoob&response_type=code&scope=email%20https%3a%2f%2fwww.googleapis.com%2fauth%2fdocs.test%20https%3a%2f%2fwww.googleapis.com%2fauth%2fdrive%20https%3a%2f%2fwww.googleapis.com%2fauth%2fdrive.photos.readonly%20https%3a%2f%2fwww.googleapis.com%2fauth%2fpeopleapi.readonly\n",
            "\n",
            "Enter your authorization code:\n",
            "··········\n",
            "Mounted at /content/drive\n"
          ],
          "name": "stdout"
        }
      ]
    },
    {
      "cell_type": "code",
      "metadata": {
        "id": "B8aq-TaNmJIb",
        "colab_type": "code",
        "colab": {}
      },
      "source": [
        "path = \"/content/drive/My Drive/tensorflow/maskDetect.zip\"\n",
        "zip_object = zipfile.ZipFile(file=path, mode=\"r\")\n",
        "zip_object.extractall(\"./\")\n",
        "zip_object.close()"
      ],
      "execution_count": 0,
      "outputs": []
    },
    {
      "cell_type": "markdown",
      "metadata": {
        "id": "H38yzWMAn7hu",
        "colab_type": "text"
      },
      "source": [
        "# Etapa 2: Transfer learning e reuso do modelo"
      ]
    },
    {
      "cell_type": "code",
      "metadata": {
        "id": "QcUoh_nj-bit",
        "colab_type": "code",
        "colab": {
          "base_uri": "https://localhost:8080/",
          "height": 50
        },
        "outputId": "88a46fb4-67d9-4534-e887-a65feb7945dd"
      },
      "source": [
        "base_model = tf.keras.applications.ResNet50(weights = 'imagenet', include_top = False)"
      ],
      "execution_count": 4,
      "outputs": [
        {
          "output_type": "stream",
          "text": [
            "Downloading data from https://storage.googleapis.com/tensorflow/keras-applications/resnet/resnet50_weights_tf_dim_ordering_tf_kernels_notop.h5\n",
            "94773248/94765736 [==============================] - 1s 0us/step\n"
          ],
          "name": "stdout"
        }
      ]
    },
    {
      "cell_type": "code",
      "metadata": {
        "id": "PuGsz2O3--oi",
        "colab_type": "code",
        "colab": {}
      },
      "source": [
        "base_model.summary()"
      ],
      "execution_count": 0,
      "outputs": []
    },
    {
      "cell_type": "code",
      "metadata": {
        "id": "755AOb7p_sHw",
        "colab_type": "code",
        "colab": {}
      },
      "source": [
        "x = base_model.output"
      ],
      "execution_count": 0,
      "outputs": []
    },
    {
      "cell_type": "code",
      "metadata": {
        "id": "W_yiEoYyAAG2",
        "colab_type": "code",
        "colab": {}
      },
      "source": [
        "x = tf.keras.layers.GlobalAveragePooling2D()(x)"
      ],
      "execution_count": 0,
      "outputs": []
    },
    {
      "cell_type": "code",
      "metadata": {
        "id": "xYgaxSP9AQzs",
        "colab_type": "code",
        "colab": {}
      },
      "source": [
        "x = tf.keras.layers.Dense(1024, activation='relu')(x)\n",
        "x = tf.keras.layers.Dense(1024, activation='relu')(x)\n",
        "x = tf.keras.layers.Dense(1024, activation='relu')(x)\n",
        "x = tf.keras.layers.Dense(512, activation='relu')(x)\n",
        "preds = tf.keras.layers.Dense(2, activation='softmax')(x)"
      ],
      "execution_count": 0,
      "outputs": []
    },
    {
      "cell_type": "code",
      "metadata": {
        "id": "iE_g-SjKA49Z",
        "colab_type": "code",
        "colab": {}
      },
      "source": [
        "model = tf.keras.models.Model(inputs = base_model.input, outputs = preds)"
      ],
      "execution_count": 0,
      "outputs": []
    },
    {
      "cell_type": "code",
      "metadata": {
        "id": "SDaUV1XvBQx8",
        "colab_type": "code",
        "colab": {}
      },
      "source": [
        "model.summary()"
      ],
      "execution_count": 0,
      "outputs": []
    },
    {
      "cell_type": "code",
      "metadata": {
        "id": "aLqKaw5vBvcB",
        "colab_type": "code",
        "colab": {}
      },
      "source": [
        "for layer in model.layers[:175]:\n",
        "  layer.trainable = False"
      ],
      "execution_count": 0,
      "outputs": []
    },
    {
      "cell_type": "code",
      "metadata": {
        "id": "WbLni6RPB7qD",
        "colab_type": "code",
        "colab": {}
      },
      "source": [
        "for layer in model.layers[175:]:\n",
        "  layer.trainable = True"
      ],
      "execution_count": 0,
      "outputs": []
    },
    {
      "cell_type": "code",
      "metadata": {
        "id": "DdwM_MJFCcQm",
        "colab_type": "code",
        "colab": {}
      },
      "source": [
        "train_datagen = tf.keras.preprocessing.image.ImageDataGenerator(preprocessing_function=tf.keras.applications.resnet50.preprocess_input)"
      ],
      "execution_count": 0,
      "outputs": []
    },
    {
      "cell_type": "code",
      "metadata": {
        "id": "jLCxpu9gC8tl",
        "colab_type": "code",
        "outputId": "cc10b680-a866-49f6-d203-076fc07a71c8",
        "colab": {
          "base_uri": "https://localhost:8080/",
          "height": 33
        }
      },
      "source": [
        "train_generator = train_datagen.flow_from_directory('/content/maskDetect/train',\n",
        "                                                    target_size = (224,224),\n",
        "                                                    color_mode = 'rgb',\n",
        "                                                    batch_size = 32,\n",
        "                                                    class_mode = 'categorical',\n",
        "                                                    shuffle = True)\n"
      ],
      "execution_count": 12,
      "outputs": [
        {
          "output_type": "stream",
          "text": [
            "Found 649 images belonging to 2 classes.\n"
          ],
          "name": "stdout"
        }
      ]
    },
    {
      "cell_type": "code",
      "metadata": {
        "id": "ThtFjs9GDf2t",
        "colab_type": "code",
        "colab": {}
      },
      "source": [
        "model.compile(optimizer='Adam', loss='categorical_crossentropy', metrics=['accuracy'])"
      ],
      "execution_count": 0,
      "outputs": []
    },
    {
      "cell_type": "code",
      "metadata": {
        "id": "owvshmnqDplE",
        "colab_type": "code",
        "outputId": "5d42fe70-0dd1-44e9-db64-cd2971455161",
        "colab": {
          "base_uri": "https://localhost:8080/",
          "height": 245
        }
      },
      "source": [
        " history = model.fit(train_generator,\n",
        "                    epochs=7,steps_per_epoch=1)\n"
      ],
      "execution_count": 16,
      "outputs": [
        {
          "output_type": "stream",
          "text": [
            "Epoch 1/7\n",
            "1/1 [==============================] - 0s 3ms/step - loss: 0.3736 - accuracy: 0.9375\n",
            "Epoch 2/7\n",
            "1/1 [==============================] - 0s 2ms/step - loss: 4.7938e-05 - accuracy: 1.0000\n",
            "Epoch 3/7\n",
            "1/1 [==============================] - 0s 2ms/step - loss: 0.1641 - accuracy: 0.9688\n",
            "Epoch 4/7\n",
            "1/1 [==============================] - 0s 1ms/step - loss: 0.0127 - accuracy: 1.0000\n",
            "Epoch 5/7\n",
            "1/1 [==============================] - 0s 6ms/step - loss: 2.2352e-08 - accuracy: 1.0000\n",
            "Epoch 6/7\n",
            "1/1 [==============================] - 0s 8ms/step - loss: 2.2761e-06 - accuracy: 1.0000\n",
            "Epoch 7/7\n",
            "1/1 [==============================] - 0s 2ms/step - loss: 0.0016 - accuracy: 1.0000\n"
          ],
          "name": "stdout"
        }
      ]
    },
    {
      "cell_type": "markdown",
      "metadata": {
        "id": "0wR3uKW8g5po",
        "colab_type": "text"
      },
      "source": [
        "# Etapa 3: Avaliação do modelo"
      ]
    },
    {
      "cell_type": "code",
      "metadata": {
        "id": "hW_BIEqpHXPk",
        "colab_type": "code",
        "outputId": "74411275-82bc-4f03-d024-c8da5d3fb9ed",
        "colab": {
          "base_uri": "https://localhost:8080/",
          "height": 558
        }
      },
      "source": [
        "acc = history.history['accuracy']\n",
        "loss = history.history['loss']\n",
        "\n",
        "plt.figure()\n",
        "plt.plot(acc, label='Training Accuracy')\n",
        "plt.ylabel('Accuracy')\n",
        "plt.title('Training Accuracy')\n",
        "\n",
        "plt.figure()\n",
        "\n",
        "plt.plot(loss, label='Training Loss')\n",
        "plt.ylabel('Loss')\n",
        "plt.title('Training Loss')\n",
        "plt.xlabel('epoch')\n",
        "plt.show()"
      ],
      "execution_count": 19,
      "outputs": [
        {
          "output_type": "display_data",
          "data": {
            "image/png": "[encoded data removed]",
            "text/plain": [
              "<Figure size 432x288 with 1 Axes>"
            ]
          },
          "metadata": {
            "tags": [],
            "needs_background": "light"
          }
        },
        {
          "output_type": "display_data",
          "data": {
            "image/png": "[encoded data removed]",
            "text/plain": [
              "<Figure size 432x288 with 1 Axes>"
            ]
          },
          "metadata": {
            "tags": [],
            "needs_background": "light"
          }
        }
      ]
    },
    {
      "cell_type": "markdown",
      "metadata": {
        "id": "s0K7YyoqTxwS",
        "colab_type": "text"
      },
      "source": [
        "# Etapa 4: teste com imagem"
      ]
    },
    {
      "cell_type": "code",
      "metadata": {
        "id": "GLuEtef-E3Y_",
        "colab_type": "code",
        "colab": {}
      },
      "source": [
        "sample_image = tf.keras.preprocessing.image.load_img(r'/content/ex-presidente-luiz-inacio-lula-da-silva-1585232017629_v2_450x450.jpg', target_size=(224,224))"
      ],
      "execution_count": 0,
      "outputs": []
    },
    {
      "cell_type": "code",
      "metadata": {
        "id": "5Ix965CtFTWT",
        "colab_type": "code",
        "outputId": "f81a97df-ccfc-408f-ba61-3651ac0dcf98",
        "colab": {
          "base_uri": "https://localhost:8080/",
          "height": 285
        }
      },
      "source": [
        "plt.imshow(sample_image)"
      ],
      "execution_count": 104,
      "outputs": [
        {
          "output_type": "execute_result",
          "data": {
            "text/plain": [
              "<matplotlib.image.AxesImage at 0x7f14572f0898>"
            ]
          },
          "metadata": {
            "tags": []
          },
          "execution_count": 104
        },
        {
          "output_type": "display_data",
          "data": {
            "image/png": "[encoded data removed]",
            "text/plain": [
              "<Figure size 432x288 with 1 Axes>"
            ]
          },
          "metadata": {
            "tags": [],
            "needs_background": "light"
          }
        }
      ]
    },
    {
      "cell_type": "code",
      "metadata": {
        "id": "4OWysMKCFXWt",
        "colab_type": "code",
        "outputId": "9ba61c1f-37dd-4b17-bcff-0cf23c79b797",
        "colab": {
          "base_uri": "https://localhost:8080/",
          "height": 33
        }
      },
      "source": [
        "sample_image = tf.keras.preprocessing.image.img_to_array(sample_image)\n",
        "np.shape(sample_image)"
      ],
      "execution_count": 105,
      "outputs": [
        {
          "output_type": "execute_result",
          "data": {
            "text/plain": [
              "(224, 224, 3)"
            ]
          },
          "metadata": {
            "tags": []
          },
          "execution_count": 105
        }
      ]
    },
    {
      "cell_type": "code",
      "metadata": {
        "id": "SkWlYMYBFhLT",
        "colab_type": "code",
        "outputId": "02917398-dc2a-4fc2-f64e-49fea7a538d7",
        "colab": {
          "base_uri": "https://localhost:8080/",
          "height": 33
        }
      },
      "source": [
        "sample_image = np.expand_dims(sample_image, axis = 0)\n",
        "np.shape(sample_image)"
      ],
      "execution_count": 106,
      "outputs": [
        {
          "output_type": "execute_result",
          "data": {
            "text/plain": [
              "(1, 224, 224, 3)"
            ]
          },
          "metadata": {
            "tags": []
          },
          "execution_count": 106
        }
      ]
    },
    {
      "cell_type": "code",
      "metadata": {
        "id": "kOokcU3pFpEo",
        "colab_type": "code",
        "colab": {}
      },
      "source": [
        "sample_image = tf.keras.applications.resnet50.preprocess_input(sample_image)"
      ],
      "execution_count": 0,
      "outputs": []
    },
    {
      "cell_type": "code",
      "metadata": {
        "id": "-i-9cHmcFv2q",
        "colab_type": "code",
        "outputId": "d9620da7-3d37-4fdc-94a3-e068b3904ce7",
        "colab": {
          "base_uri": "https://localhost:8080/",
          "height": 33
        }
      },
      "source": [
        "predictions = model.predict(sample_image)\n",
        "print(predictions)"
      ],
      "execution_count": 108,
      "outputs": [
        {
          "output_type": "stream",
          "text": [
            "[[1.3914738e-09 1.0000000e+00]]\n"
          ],
          "name": "stdout"
        }
      ]
    },
    {
      "cell_type": "code",
      "metadata": {
        "id": "mlEYzVGMFrfz",
        "colab_type": "code",
        "colab": {}
      },
      "source": [
        "classes=['cidadão de bem protegido','vagabundo sem mascara']"
      ],
      "execution_count": 0,
      "outputs": []
    },
    {
      "cell_type": "code",
      "metadata": {
        "id": "IL9bVTB5FyU_",
        "colab_type": "code",
        "outputId": "68a4bfc0-d3f1-4a5e-c0fe-d7bf0af33472",
        "colab": {
          "base_uri": "https://localhost:8080/",
          "height": 33
        }
      },
      "source": [
        "classes[np.argmax(predictions[0])]"
      ],
      "execution_count": 110,
      "outputs": [
        {
          "output_type": "execute_result",
          "data": {
            "text/plain": [
              "'vagabundo sem mascara'"
            ]
          },
          "metadata": {
            "tags": []
          },
          "execution_count": 110
        }
      ]
    },
    {
      "cell_type": "markdown",
      "metadata": {
        "id": "co3rarxxUAzl",
        "colab_type": "text"
      },
      "source": [
        "# Etapa 5: Deploy do modelo"
      ]
    },
    {
      "cell_type": "code",
      "metadata": {
        "id": "w1tf0kU0Infd",
        "colab_type": "code",
        "colab": {}
      },
      "source": [
        "model_json = model.to_json()\n",
        "with open(\"maskDetect.json\", \"w\") as json_file:\n",
        "    json_file.write(model_json)"
      ],
      "execution_count": 0,
      "outputs": []
    },
    {
      "cell_type": "code",
      "metadata": {
        "id": "Zk-W_otqIswu",
        "colab_type": "code",
        "colab": {}
      },
      "source": [
        "model.save_weights(\"maskDetect.h5\")"
      ],
      "execution_count": 0,
      "outputs": []
    }
  ]
}